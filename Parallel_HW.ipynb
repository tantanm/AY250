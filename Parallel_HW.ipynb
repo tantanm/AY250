{
 "metadata": {
  "name": "Parallel_HW"
 },
 "nbformat": 3,
 "nbformat_minor": 0,
 "worksheets": [
  {
   "cells": [
    {
     "cell_type": "code",
     "collapsed": false,
     "input": "import random \nfrom math import sqrt\nfrom time import time\nfrom multiprocessing import Pool, cpu_count",
     "language": "python",
     "metadata": {},
     "outputs": [],
     "prompt_number": 9
    },
    {
     "cell_type": "code",
     "collapsed": false,
     "input": "number_of_darts=[10,100,1000,10000,100000,1000000,10000000]",
     "language": "python",
     "metadata": {},
     "outputs": [],
     "prompt_number": 34
    },
    {
     "cell_type": "code",
     "collapsed": false,
     "input": "def monti1(n):\n    number_of_darts_in_the_circle=0\n    \n    start_time=time()\n    for x in range(n):\n        x,y=random.uniform(0,1), random.uniform(0,1)\n        if sqrt((x-0.5)**2 + (y-0.5)**2)<=0.5:\n            number_of_darts_in_the_circle+=1\n    \n    end_time=time()\n    execution_time=end_time-start_time\n    \n    pi_approx=4* number_of_darts_in_the_circle/ float(n)\n    \n    return n, pi_approx, execution_time",
     "language": "python",
     "metadata": {},
     "outputs": [],
     "prompt_number": 11
    },
    {
     "cell_type": "code",
     "collapsed": false,
     "input": "result_1=[]\nfor i in number_of_darts:\n    result_1.append(monti1(i))\nprint result_1",
     "language": "python",
     "metadata": {},
     "outputs": [
      {
       "output_type": "stream",
       "stream": "stdout",
       "text": "[(10, 4.0, 7.891654968261719e-05), (100, 2.8, 0.00030112266540527344), (1000, 3.22, 0.0029811859130859375), (10000, 3.1384, 0.029473066329956055), (100000, 3.13192, 0.22642111778259277), (1000000, 3.1417, 1.6696929931640625), (10000000, 3.1414692, 16.752065181732178)]\n"
      }
     ],
     "prompt_number": 36
    },
    {
     "cell_type": "code",
     "collapsed": false,
     "input": "def montecarlo(n):\n    number_of_darts_in_the_circle=0\n    \n    for x in range(n):\n        x,y= random.uniform(0,1), random.uniform(0,1)\n        if sqrt((x-0.5)**2 + (y-0.5)**2)<=0.5:\n            number_of_darts_in_the_circle+=1\n    \n    \n\n    return number_of_darts_in_the_circle\n",
     "language": "python",
     "metadata": {},
     "outputs": [],
     "prompt_number": 12
    },
    {
     "cell_type": "code",
     "collapsed": false,
     "input": "numprocessors = cpu_count()\np = Pool(numprocessors)\n\ndef eqdiv(numdarts):\n    newarray = []\n    for i in xrange(numprocessors):\n        newarray.append(numdarts/numprocessors)\n\n    return newarray\n    \nanalysisarr = list()\n\nfor numdarts in number_of_darts:\n    start_time = time()\n    \n    result = p.map_async(montecarlo,eqdiv(numdarts))\n    poolresult = result.get()\n    \n    end_time = time()\n    final_pi = float(4*sum(poolresult))/numdarts\n    elapsed_time = end_time - start_time\n    \n    analysisarr.append((numdarts,final_pi,elapsed_time))\n        \nprint analysisarr\n",
     "language": "python",
     "metadata": {},
     "outputs": [
      {
       "output_type": "stream",
       "stream": "stdout",
       "text": "[(10, 2.8, 0.0010230541229248047), (100, 3.12, 0.000392913818359375), (1000, 3.116, 0.0013430118560791016), (10000, 3.1664, 0.011695146560668945), (100000, 3.14764, 0.08585405349731445), (1000000, 3.142088, 0.6887960433959961), (10000000, 3.1416704, 6.859028100967407)]\n"
      }
     ],
     "prompt_number": 35
    },
    {
     "cell_type": "code",
     "collapsed": false,
     "input": "from IPython.display import display\nfrom IPython import parallel\nimport numpy as np\nrc = parallel.Client()\ne0 = rc[0]\neall = rc[:]\ndview = eall\ndview.block = True",
     "language": "python",
     "metadata": {},
     "outputs": [],
     "prompt_number": 15
    },
    {
     "cell_type": "code",
     "collapsed": false,
     "input": "dview.scatter('a',np.arange(10))\na = len(dview['a'])\n\nprint 'a in the engines:',dview['a']\nprint 'a here:', a\nprint 'len of whole thing:', len(dview.gather('a'))",
     "language": "python",
     "metadata": {},
     "outputs": [
      {
       "output_type": "stream",
       "stream": "stdout",
       "text": "a in the engines: [array([0, 1, 2]), array([3, 4, 5]), array([6, 7]), array([8, 9])]\na here: 4\nlen of whole thing: 10\n"
      }
     ],
     "prompt_number": 16
    },
    {
     "cell_type": "code",
     "collapsed": false,
     "input": "#@dview.parallel(block=True)\n\ndef montecarlo(n):\n    from math import sqrt\n    import random\n    number_of_darts_in_the_circle=0\n    \n    for x in range(n):\n        x,y= random.uniform(0,1), random.uniform(0,1)\n        if sqrt((x-0.5)**2 + (y-0.5)**2)<=0.5:\n            number_of_darts_in_the_circle+=1\n    \n    \n\n    return number_of_darts_in_the_circle\n#c_remote=montecarlo(10)\n#c_remote\nprint montecarlo(100)",
     "language": "python",
     "metadata": {},
     "outputs": [
      {
       "output_type": "stream",
       "stream": "stdout",
       "text": "77\n"
      }
     ],
     "prompt_number": 46
    },
    {
     "cell_type": "code",
     "collapsed": false,
     "input": "\ndef pdot1(v, n):\n    v.scatter('a', range(n))\n    print v['a'][0]\n    x= len(v['a'][0])\n    res = dview.map(montecarlo,[10,100,1000])\n#     v.execute('import random')\n    ar = v.map_async(montecarlo,v['a'][0])",
     "language": "python",
     "metadata": {},
     "outputs": [],
     "prompt_number": 47
    },
    {
     "cell_type": "code",
     "collapsed": false,
     "input": "dviewarr = list()\n\nfor numdarts in number_of_darts:\n    start_time=time()\n    poolresult = dview.map(montecarlo,eqdiv(numdarts))\n    final_pi = float(4*sum(poolresult))/numdarts\n    end_time=time()\n    elapsed_time = end_time - start_time\n    dviewarr.append((numdarts,final_pi,elapsed_time))\n        \nprint dviewarr",
     "language": "python",
     "metadata": {},
     "outputs": [
      {
       "output_type": "stream",
       "stream": "stdout",
       "text": "[(10, 2.0, 0.020071983337402344), (100, 3.04, 0.016672849655151367), (1000, 3.104, 0.018039941787719727), (10000, 3.1444, 0.026161909103393555), (100000, 3.14564, 0.10190296173095703), (1000000, 3.141732, 0.7197229862213135), (10000000, 3.1422944, 6.83394193649292)]\n"
      }
     ],
     "prompt_number": 49
    },
    {
     "cell_type": "code",
     "collapsed": false,
     "input": "import math\n\nresult_serial=[]\nresult_para=[]\nresult_paradv=[]\nfor i in range(len(number_of_darts)):\n    result_serial.append(math.log(result_1[i][2],10))\n    result_para.append(math.log(analysisarr[i][2],10))\n    result_paradv.append(math.log(dviewarr[i][2],10))",
     "language": "python",
     "metadata": {},
     "outputs": [],
     "prompt_number": 78
    },
    {
     "cell_type": "code",
     "collapsed": false,
     "input": "print result_serial, result_para, result_paradv",
     "language": "python",
     "metadata": {},
     "outputs": [
      {
       "output_type": "stream",
       "stream": "stdout",
       "text": "[-4.102831910831867, -3.521256554052255, -2.525610939596455, -1.5305746785069203, -0.6450830699363195, 0.2226366246614525, 1.2240683541635358] [-2.9901013900749143, -3.4057026972464888, -2.871920153372235, -1.931994331350257, -1.0662391953200996, -0.16190935623532673, 0.836262582136819] [-1.6974097122194134, -1.7779901659944495, -1.7437648681972306, -1.5823305675795292, -0.9918131933761132, -0.14283462676969544, 0.8346712845640244]\n"
      }
     ],
     "prompt_number": 82
    },
    {
     "cell_type": "code",
     "collapsed": false,
     "input": "\nimport matplotlib.pyplot as plt\n\nlogscale = list()\n\nfor x in number_of_darts:\n    logscale.append(math.log(x,10))\n\nplt.plot(logscale, result_serial)\nplt.plot(logscale, result_para)\nplt.plot(logscale, result_paradv)\nplt.xlabel('# darts (power log 10)')\nplt.ylabel('# time in seconds (power log 10)')\nplt.title('serial vs parallel time ()')\nplt.show()",
     "language": "python",
     "metadata": {},
     "outputs": [],
     "prompt_number": 91
    },
    {
     "cell_type": "code",
     "collapsed": false,
     "input": "",
     "language": "python",
     "metadata": {},
     "outputs": [
      {
       "output_type": "stream",
       "stream": "stdout",
       "text": "[1.0, 2.0, 2.9999999999999996, 4.0, 5.0, 5.999999999999999, 7.0]\n"
      }
     ],
     "prompt_number": 89
    },
    {
     "cell_type": "code",
     "collapsed": false,
     "input": "",
     "language": "python",
     "metadata": {},
     "outputs": []
    }
   ],
   "metadata": {}
  }
 ]
}