{
 "metadata": {
  "name": "Database HW"
 },
 "nbformat": 3,
 "nbformat_minor": 0,
 "worksheets": [
  {
   "cells": [
    {
     "cell_type": "code",
     "collapsed": false,
     "input": "import os, sys, sqlite3, urllib\nimport numpy as np\nimport matplotlib.pyplot as plt",
     "language": "python",
     "metadata": {},
     "outputs": [],
     "prompt_number": 610
    },
    {
     "cell_type": "code",
     "collapsed": false,
     "input": "f1= open(\"/Users/sayantanm/Downloads/top_airports.csv\")\nf2= open(\"/Users/sayantanm/Downloads/I_airports.csv\")\nf1= f1.read()\nf2=f2.read()\nf1=f1.split(\"\\n\")\nf2=f2.split(\"\\r\")\ntab1=[]\ntab2=[]\ntab3=[]\ntab=[]\nfor i in range(1,(len(f1)-1)):\n    x=f1[i].split(\",\")\n    tab1.append(x[3])\n    tab2.append([x[3],x[4],x[0]])",
     "language": "python",
     "metadata": {},
     "outputs": [],
     "prompt_number": 130
    },
    {
     "cell_type": "code",
     "collapsed": false,
     "input": "for i in range(len(f2)):\n    y=f2[i].split(\",\")\n    if y[0] in tab1:\n        tab3.append([y[0],y[3], y[4]])",
     "language": "python",
     "metadata": {},
     "outputs": [],
     "prompt_number": 131
    },
    {
     "cell_type": "code",
     "collapsed": false,
     "input": "for i in range(len(tab2)):\n    for j in range(len(tab3)):\n        if tab2[i][0]==tab3[j][0]:\n            tab.append([tab2[i][0], tab2[i][1], tab2[i][2],tab3[j][1], tab3[j][2]])",
     "language": "python",
     "metadata": {},
     "outputs": [],
     "prompt_number": 133
    },
    {
     "cell_type": "code",
     "collapsed": false,
     "input": "f = open('airport.txt', 'w')\nprint f\nfor item in tab:\n  f.write(\"%s\\n\" % item)",
     "language": "python",
     "metadata": {},
     "outputs": [
      {
       "output_type": "stream",
       "stream": "stdout",
       "text": "<open file 'airport.txt', mode 'w' at 0x104330270>\n"
      }
     ],
     "prompt_number": 345
    },
    {
     "cell_type": "code",
     "collapsed": false,
     "input": "link1= urllib.urlopen('http://www.wunderground.com/history/airport/KSFO/2013/9/1/MonthlyHistory.html?format=1')\nlink1=link1.read()\nlink1=link1.split(\"<br />\")",
     "language": "python",
     "metadata": {},
     "outputs": [],
     "prompt_number": 177
    },
    {
     "cell_type": "code",
     "collapsed": false,
     "input": "link1=link1[1].split(\",\")\nprint link1[0],link1[1],link1[3],link1[8],link1[19],link1[20]",
     "language": "python",
     "metadata": {},
     "outputs": [
      {
       "output_type": "stream",
       "stream": "stdout",
       "text": "\n2013-9-1 74 58 68 0.00 4\n"
      }
     ],
     "prompt_number": 152
    },
    {
     "cell_type": "code",
     "collapsed": false,
     "input": "baseurl='http://www.wunderground.com/history/airport/'\nurlairport=[]\nfor i in range(len(tab1)):\n    urlairport.append(baseurl+str(tab1[i])+\"/\")\nprint len(urlairport)",
     "language": "python",
     "metadata": {},
     "outputs": [
      {
       "output_type": "stream",
       "stream": "stdout",
       "text": "50\n"
      }
     ],
     "prompt_number": 241
    },
    {
     "cell_type": "code",
     "collapsed": false,
     "input": "urlairportyear=[]\nfor i in range(2008,2014):\n    for j in range(len(urlairport)):\n        urlairportyear.append(str(urlairport[j])+str(i)+\"/\")\nprint len(urlairportyear)",
     "language": "python",
     "metadata": {},
     "outputs": [
      {
       "output_type": "stream",
       "stream": "stdout",
       "text": "300\n"
      }
     ],
     "prompt_number": 245
    },
    {
     "cell_type": "code",
     "collapsed": false,
     "input": "urlairportmonth=[]\nfor i in range(1,13):\n    for j in range(len(urlairportyear)):\n        urlairportmonth.append(str(urlairportyear[j])+str(i)+\"/\")\nprint len(urlairportmonth)",
     "language": "python",
     "metadata": {},
     "outputs": [
      {
       "output_type": "stream",
       "stream": "stdout",
       "text": "3600\n"
      }
     ],
     "prompt_number": 252
    },
    {
     "cell_type": "code",
     "collapsed": false,
     "input": "allurl=[]\nfor i in range(len(urlairportmonth)):\n    allurl.append(urlairportmonth[i]+str('1/MonthlyHistory.html?format=1'))",
     "language": "python",
     "metadata": {},
     "outputs": [],
     "prompt_number": 253
    },
    {
     "cell_type": "code",
     "collapsed": false,
     "input": "allweather=[]\nfor i in range(len(allurl)):\n    airport=city(allurl[i])\n    link1= urllib.urlopen(allurl[i])\n    link2=link1.read()\n    link3=link2.split(\"<br />\")\n    for i in range(1,(len(link3)-1)):\n        lnk=link3[i].split(\",\")\n        allweather.append([airport, lnk[0][1:], lnk[1], lnk[3], lnk[8], lnk[19], lnk[20]])",
     "language": "python",
     "metadata": {},
     "outputs": [
      {
       "output_type": "stream",
       "stream": "stdout",
       "text": "3470\n3471"
      },
      {
       "output_type": "stream",
       "stream": "stdout",
       "text": "\n3472"
      },
      {
       "output_type": "stream",
       "stream": "stdout",
       "text": "\n3473"
      },
      {
       "output_type": "stream",
       "stream": "stdout",
       "text": "\n3474"
      },
      {
       "output_type": "stream",
       "stream": "stdout",
       "text": "\n3475"
      },
      {
       "output_type": "stream",
       "stream": "stdout",
       "text": "\n3476"
      },
      {
       "output_type": "stream",
       "stream": "stdout",
       "text": "\n3477"
      },
      {
       "output_type": "stream",
       "stream": "stdout",
       "text": "\n3478"
      },
      {
       "output_type": "stream",
       "stream": "stdout",
       "text": "\n3479"
      },
      {
       "output_type": "stream",
       "stream": "stdout",
       "text": "\n3480"
      },
      {
       "output_type": "stream",
       "stream": "stdout",
       "text": "\n3481"
      },
      {
       "output_type": "stream",
       "stream": "stdout",
       "text": "\n3482"
      },
      {
       "output_type": "stream",
       "stream": "stdout",
       "text": "\n3483"
      },
      {
       "output_type": "stream",
       "stream": "stdout",
       "text": "\n3484"
      },
      {
       "output_type": "stream",
       "stream": "stdout",
       "text": "\n3485"
      },
      {
       "output_type": "stream",
       "stream": "stdout",
       "text": "\n3486"
      },
      {
       "output_type": "stream",
       "stream": "stdout",
       "text": "\n3487"
      },
      {
       "output_type": "stream",
       "stream": "stdout",
       "text": "\n3488"
      },
      {
       "output_type": "stream",
       "stream": "stdout",
       "text": "\n3489"
      },
      {
       "output_type": "stream",
       "stream": "stdout",
       "text": "\n3490"
      },
      {
       "output_type": "stream",
       "stream": "stdout",
       "text": "\n3491"
      },
      {
       "output_type": "stream",
       "stream": "stdout",
       "text": "\n3492"
      },
      {
       "output_type": "stream",
       "stream": "stdout",
       "text": "\n3493"
      },
      {
       "output_type": "stream",
       "stream": "stdout",
       "text": "\n3494"
      },
      {
       "output_type": "stream",
       "stream": "stdout",
       "text": "\n3495"
      },
      {
       "output_type": "stream",
       "stream": "stdout",
       "text": "\n3496"
      },
      {
       "output_type": "stream",
       "stream": "stdout",
       "text": "\n3497"
      },
      {
       "output_type": "stream",
       "stream": "stdout",
       "text": "\n3498"
      },
      {
       "output_type": "stream",
       "stream": "stdout",
       "text": "\n3499"
      },
      {
       "output_type": "stream",
       "stream": "stdout",
       "text": "\n3500"
      },
      {
       "output_type": "stream",
       "stream": "stdout",
       "text": "\n3501"
      },
      {
       "output_type": "stream",
       "stream": "stdout",
       "text": "\n3502"
      },
      {
       "output_type": "stream",
       "stream": "stdout",
       "text": "\n3503"
      },
      {
       "output_type": "stream",
       "stream": "stdout",
       "text": "\n3504"
      },
      {
       "output_type": "stream",
       "stream": "stdout",
       "text": "\n3505"
      },
      {
       "output_type": "stream",
       "stream": "stdout",
       "text": "\n3506"
      },
      {
       "output_type": "stream",
       "stream": "stdout",
       "text": "\n3507"
      },
      {
       "output_type": "stream",
       "stream": "stdout",
       "text": "\n3508"
      },
      {
       "output_type": "stream",
       "stream": "stdout",
       "text": "\n3509"
      },
      {
       "output_type": "stream",
       "stream": "stdout",
       "text": "\n3510"
      },
      {
       "output_type": "stream",
       "stream": "stdout",
       "text": "\n3511"
      },
      {
       "output_type": "stream",
       "stream": "stdout",
       "text": "\n3512"
      },
      {
       "output_type": "stream",
       "stream": "stdout",
       "text": "\n3513"
      },
      {
       "output_type": "stream",
       "stream": "stdout",
       "text": "\n3514"
      },
      {
       "output_type": "stream",
       "stream": "stdout",
       "text": "\n3515"
      },
      {
       "output_type": "stream",
       "stream": "stdout",
       "text": "\n3516"
      },
      {
       "output_type": "stream",
       "stream": "stdout",
       "text": "\n3517"
      },
      {
       "output_type": "stream",
       "stream": "stdout",
       "text": "\n3518"
      },
      {
       "output_type": "stream",
       "stream": "stdout",
       "text": "\n3519"
      },
      {
       "output_type": "stream",
       "stream": "stdout",
       "text": "\n3520"
      },
      {
       "output_type": "stream",
       "stream": "stdout",
       "text": "\n3521"
      },
      {
       "output_type": "stream",
       "stream": "stdout",
       "text": "\n3522"
      },
      {
       "output_type": "stream",
       "stream": "stdout",
       "text": "\n3523"
      },
      {
       "output_type": "stream",
       "stream": "stdout",
       "text": "\n3524"
      },
      {
       "output_type": "stream",
       "stream": "stdout",
       "text": "\n3525"
      },
      {
       "output_type": "stream",
       "stream": "stdout",
       "text": "\n3526"
      },
      {
       "output_type": "stream",
       "stream": "stdout",
       "text": "\n3527"
      },
      {
       "output_type": "stream",
       "stream": "stdout",
       "text": "\n3528"
      },
      {
       "output_type": "stream",
       "stream": "stdout",
       "text": "\n3529"
      },
      {
       "output_type": "stream",
       "stream": "stdout",
       "text": "\n3530"
      },
      {
       "output_type": "stream",
       "stream": "stdout",
       "text": "\n3531"
      },
      {
       "output_type": "stream",
       "stream": "stdout",
       "text": "\n3532"
      },
      {
       "output_type": "stream",
       "stream": "stdout",
       "text": "\n3533"
      },
      {
       "output_type": "stream",
       "stream": "stdout",
       "text": "\n3534"
      },
      {
       "output_type": "stream",
       "stream": "stdout",
       "text": "\n3535"
      },
      {
       "output_type": "stream",
       "stream": "stdout",
       "text": "\n3536"
      },
      {
       "output_type": "stream",
       "stream": "stdout",
       "text": "\n3537"
      },
      {
       "output_type": "stream",
       "stream": "stdout",
       "text": "\n3538"
      },
      {
       "output_type": "stream",
       "stream": "stdout",
       "text": "\n3539"
      },
      {
       "output_type": "stream",
       "stream": "stdout",
       "text": "\n3540"
      },
      {
       "output_type": "stream",
       "stream": "stdout",
       "text": "\n3541"
      },
      {
       "output_type": "stream",
       "stream": "stdout",
       "text": "\n3542"
      },
      {
       "output_type": "stream",
       "stream": "stdout",
       "text": "\n3543"
      },
      {
       "output_type": "stream",
       "stream": "stdout",
       "text": "\n3544"
      },
      {
       "output_type": "stream",
       "stream": "stdout",
       "text": "\n3545"
      },
      {
       "output_type": "stream",
       "stream": "stdout",
       "text": "\n3546"
      },
      {
       "output_type": "stream",
       "stream": "stdout",
       "text": "\n3547"
      },
      {
       "output_type": "stream",
       "stream": "stdout",
       "text": "\n3548"
      },
      {
       "output_type": "stream",
       "stream": "stdout",
       "text": "\n3549"
      },
      {
       "output_type": "stream",
       "stream": "stdout",
       "text": "\n3550"
      },
      {
       "output_type": "stream",
       "stream": "stdout",
       "text": "\n3551"
      },
      {
       "output_type": "stream",
       "stream": "stdout",
       "text": "\n3552"
      },
      {
       "output_type": "stream",
       "stream": "stdout",
       "text": "\n3553"
      },
      {
       "output_type": "stream",
       "stream": "stdout",
       "text": "\n3554"
      },
      {
       "output_type": "stream",
       "stream": "stdout",
       "text": "\n3555"
      },
      {
       "output_type": "stream",
       "stream": "stdout",
       "text": "\n3556"
      },
      {
       "output_type": "stream",
       "stream": "stdout",
       "text": "\n3557"
      },
      {
       "output_type": "stream",
       "stream": "stdout",
       "text": "\n3558"
      },
      {
       "output_type": "stream",
       "stream": "stdout",
       "text": "\n3559"
      },
      {
       "output_type": "stream",
       "stream": "stdout",
       "text": "\n3560"
      },
      {
       "output_type": "stream",
       "stream": "stdout",
       "text": "\n3561"
      },
      {
       "output_type": "stream",
       "stream": "stdout",
       "text": "\n3562"
      },
      {
       "output_type": "stream",
       "stream": "stdout",
       "text": "\n3563"
      },
      {
       "output_type": "stream",
       "stream": "stdout",
       "text": "\n3564"
      },
      {
       "output_type": "stream",
       "stream": "stdout",
       "text": "\n3565"
      },
      {
       "output_type": "stream",
       "stream": "stdout",
       "text": "\n3566"
      },
      {
       "output_type": "stream",
       "stream": "stdout",
       "text": "\n3567"
      },
      {
       "output_type": "stream",
       "stream": "stdout",
       "text": "\n3568"
      },
      {
       "output_type": "stream",
       "stream": "stdout",
       "text": "\n3569"
      },
      {
       "output_type": "stream",
       "stream": "stdout",
       "text": "\n3570"
      },
      {
       "output_type": "stream",
       "stream": "stdout",
       "text": "\n3571"
      },
      {
       "output_type": "stream",
       "stream": "stdout",
       "text": "\n3572"
      },
      {
       "output_type": "stream",
       "stream": "stdout",
       "text": "\n3573"
      },
      {
       "output_type": "stream",
       "stream": "stdout",
       "text": "\n3574"
      },
      {
       "output_type": "stream",
       "stream": "stdout",
       "text": "\n3575"
      },
      {
       "output_type": "stream",
       "stream": "stdout",
       "text": "\n3576"
      },
      {
       "output_type": "stream",
       "stream": "stdout",
       "text": "\n3577"
      },
      {
       "output_type": "stream",
       "stream": "stdout",
       "text": "\n3578"
      },
      {
       "output_type": "stream",
       "stream": "stdout",
       "text": "\n3579"
      },
      {
       "output_type": "stream",
       "stream": "stdout",
       "text": "\n3580"
      },
      {
       "output_type": "stream",
       "stream": "stdout",
       "text": "\n3581"
      },
      {
       "output_type": "stream",
       "stream": "stdout",
       "text": "\n3582"
      },
      {
       "output_type": "stream",
       "stream": "stdout",
       "text": "\n3583"
      },
      {
       "output_type": "stream",
       "stream": "stdout",
       "text": "\n3584"
      },
      {
       "output_type": "stream",
       "stream": "stdout",
       "text": "\n3585"
      },
      {
       "output_type": "stream",
       "stream": "stdout",
       "text": "\n3586"
      },
      {
       "output_type": "stream",
       "stream": "stdout",
       "text": "\n3587"
      },
      {
       "output_type": "stream",
       "stream": "stdout",
       "text": "\n3588"
      },
      {
       "output_type": "stream",
       "stream": "stdout",
       "text": "\n3589"
      },
      {
       "output_type": "stream",
       "stream": "stdout",
       "text": "\n3590"
      },
      {
       "output_type": "stream",
       "stream": "stdout",
       "text": "\n3591"
      },
      {
       "output_type": "stream",
       "stream": "stdout",
       "text": "\n3592"
      },
      {
       "output_type": "stream",
       "stream": "stdout",
       "text": "\n3593"
      },
      {
       "output_type": "stream",
       "stream": "stdout",
       "text": "\n3594"
      },
      {
       "output_type": "stream",
       "stream": "stdout",
       "text": "\n3595"
      },
      {
       "output_type": "stream",
       "stream": "stdout",
       "text": "\n3596"
      },
      {
       "output_type": "stream",
       "stream": "stdout",
       "text": "\n3597"
      },
      {
       "output_type": "stream",
       "stream": "stdout",
       "text": "\n3598"
      },
      {
       "output_type": "stream",
       "stream": "stdout",
       "text": "\n3599"
      },
      {
       "output_type": "stream",
       "stream": "stdout",
       "text": "\n"
      }
     ],
     "prompt_number": 319
    },
    {
     "cell_type": "code",
     "collapsed": false,
     "input": "for i in range(1,(len(link3)-1)):\n        lnk=link3[i].split(\",\")\n        print allurl[i], lnk[0], lnk[1], lnk[3], lnk[8], lnk[19], lnk[20]",
     "language": "python",
     "metadata": {},
     "outputs": []
    },
    {
     "cell_type": "code",
     "collapsed": false,
     "input": "def city(x):\n    airport= x[44:]\n    airport=airport[:4]\n    return airport",
     "language": "python",
     "metadata": {},
     "outputs": [],
     "prompt_number": 273
    },
    {
     "cell_type": "code",
     "collapsed": false,
     "input": "mergedlist = allweather1 + allweather2+allweather3+allweather4+allweather5+allweather6",
     "language": "python",
     "metadata": {},
     "outputs": [],
     "prompt_number": 329
    },
    {
     "cell_type": "code",
     "collapsed": false,
     "input": "f = open('weatherdata.txt', 'w')\nprint f\nfor item in mergedlist:\n  f.write(\"%s\\n\" % item)",
     "language": "python",
     "metadata": {},
     "outputs": [
      {
       "output_type": "stream",
       "stream": "stdout",
       "text": "<open file 'weatherdata.txt', mode 'w' at 0x1043301e0>\n"
      }
     ],
     "prompt_number": 343
    },
    {
     "cell_type": "code",
     "collapsed": false,
     "input": "import sqlite3\nconnection = sqlite3.connect(\"/tmp/hw6.db\")\ncursor = connection.cursor()\nsql_cmd = \"\"\"CREATE TABLE airport (id INTEGER PRIMARY KEY AUTOINCREMENT,\n    ioca_id TEXT, name TEXT, city TEXT, lat NUMERIC, lon NUMERIC)\"\"\"\ncursor.execute(sql_cmd)",
     "language": "python",
     "metadata": {},
     "outputs": [
      {
       "metadata": {},
       "output_type": "pyout",
       "prompt_number": 346,
       "text": "<sqlite3.Cursor at 0x10d53fb90>"
      }
     ],
     "prompt_number": 346
    },
    {
     "cell_type": "code",
     "collapsed": false,
     "input": "for i in range(len(tab)):\n    item=tuple(tab[i])\n    sql_cmd = (\"INSERT INTO airport (ioca_id, name, city, lat, lon) VALUES \" + str(item))\n    cursor.execute(sql_cmd)",
     "language": "python",
     "metadata": {},
     "outputs": [],
     "prompt_number": 352
    },
    {
     "cell_type": "code",
     "collapsed": false,
     "input": "cursor = connection.cursor()\nsql_cmd = \"\"\"CREATE TABLE weather (id INTEGER PRIMARY KEY AUTOINCREMENT,\n    ioca_id TEXT, weather_date DATE, max_temp INT, min_temp INT, humidity INT, precip NUMERIC, cloud INT)\"\"\"\ncursor.execute(sql_cmd)",
     "language": "python",
     "metadata": {},
     "outputs": [
      {
       "metadata": {},
       "output_type": "pyout",
       "prompt_number": 353,
       "text": "<sqlite3.Cursor at 0x10ab17e30>"
      }
     ],
     "prompt_number": 353
    },
    {
     "cell_type": "code",
     "collapsed": false,
     "input": "for item in mergedlist:\n    if item[5]==\"T\":\n        item[5]=0.00",
     "language": "python",
     "metadata": {},
     "outputs": [],
     "prompt_number": 395
    },
    {
     "cell_type": "code",
     "collapsed": false,
     "input": "f = open('weatherdata.txt', 'w')\nprint f\nfor item in mergedlist:\n  f.write(\"%s\\n\" % item)",
     "language": "python",
     "metadata": {},
     "outputs": [
      {
       "output_type": "stream",
       "stream": "stdout",
       "text": "<open file 'weatherdata.txt', mode 'w' at 0x104330270>\n"
      }
     ],
     "prompt_number": 358
    },
    {
     "cell_type": "code",
     "collapsed": false,
     "input": "for i in range(len(mergedlist)):\n    item=tuple(mergedlist[i])\n    sql_cmd = (\"INSERT INTO weather (ioca_id, weather_date, max_temp, min_temp, humidity, precip, cloud) VALUES \" + str(item))\n    cursor.execute(sql_cmd)",
     "language": "python",
     "metadata": {},
     "outputs": [
      {
       "ename": "ProgrammingError",
       "evalue": "Cannot operate on a closed database.",
       "output_type": "pyerr",
       "traceback": [
        "\u001b[0;31m---------------------------------------------------------------------------\u001b[0m\n\u001b[0;31mProgrammingError\u001b[0m                          Traceback (most recent call last)",
        "\u001b[0;32m<ipython-input-364-6bcd35b2f15e>\u001b[0m in \u001b[0;36m<module>\u001b[0;34m()\u001b[0m\n\u001b[1;32m      2\u001b[0m     \u001b[0mitem\u001b[0m\u001b[0;34m=\u001b[0m\u001b[0mtuple\u001b[0m\u001b[0;34m(\u001b[0m\u001b[0mmergedlist\u001b[0m\u001b[0;34m[\u001b[0m\u001b[0mi\u001b[0m\u001b[0;34m]\u001b[0m\u001b[0;34m)\u001b[0m\u001b[0;34m\u001b[0m\u001b[0m\n\u001b[1;32m      3\u001b[0m     \u001b[0msql_cmd\u001b[0m \u001b[0;34m=\u001b[0m \u001b[0;34m(\u001b[0m\u001b[0;34m\"INSERT INTO weather (ioca_id, weather_date, max_temp, min_temp, humidity, precip, cloud) VALUES \"\u001b[0m \u001b[0;34m+\u001b[0m \u001b[0mstr\u001b[0m\u001b[0;34m(\u001b[0m\u001b[0mitem\u001b[0m\u001b[0;34m)\u001b[0m\u001b[0;34m)\u001b[0m\u001b[0;34m\u001b[0m\u001b[0m\n\u001b[0;32m----> 4\u001b[0;31m     \u001b[0mcursor\u001b[0m\u001b[0;34m.\u001b[0m\u001b[0mexecute\u001b[0m\u001b[0;34m(\u001b[0m\u001b[0msql_cmd\u001b[0m\u001b[0;34m)\u001b[0m\u001b[0;34m\u001b[0m\u001b[0m\n\u001b[0m",
        "\u001b[0;31mProgrammingError\u001b[0m: Cannot operate on a closed database."
       ]
      }
     ],
     "prompt_number": 364
    },
    {
     "cell_type": "code",
     "collapsed": false,
     "input": "connection = sqlite3.connect(\"/tmp/hw6.db\")\ncursor = connection.cursor()\nsql_cmd1 = \"SELECT * FROM weather WHERE weather_date = '2008-1-1' or weather_date = '2008-1-2' or weather_date = '2008-1-3'or +weather_date = '2008-1-4'or weather_date = '2008-1-5'or weather_date = '2008-1-6'or weather_date = '2008-1-7' \"\ncursor.execute(sql_cmd1)\ndb_info = cursor.fetchall()\n#for entry in db_info: print entry\nconnection.commit()",
     "language": "python",
     "metadata": {},
     "outputs": [],
     "prompt_number": 421
    },
    {
     "cell_type": "code",
     "collapsed": false,
     "input": "cursor = connection.cursor()\nsql_cmd1 = \"SELECT ioca_id, max_temp, weather_date FROM weather WHERE ioca_id='KATL' AND weather_date = '2009-1-1' OR weather_date = '2009-1-2' OR weather_date = '2009-1-3' \"\ncursor.execute(sql_cmd1)\ndb_info = cursor.fetchall()\n#for entry in db_info: print entry\nconnection.commit()",
     "language": "python",
     "metadata": {},
     "outputs": [],
     "prompt_number": 420
    },
    {
     "cell_type": "code",
     "collapsed": false,
     "input": "for i in range(len(mergedlist)-1):\n    if mergedlist[i][0]==mergedlist[i+1][0]:\n        cloud1=mergedlist[i+1][6]\n        cloud2=mergedlist[i][6]\n#         print cloud1\n#         print float(cloud1)\n#         print cloud2\n#         print float(cloud2)\n#         print cloud1\n#         cloud2=mergedlist[i][7]\n#         print cloud2\n#         cloud1=int(hightemp1)\n#         cloud2=int(hightemp2)\n# #         mergedlist[i].append(float(hightemp1)-float(hightemp2))",
     "language": "python",
     "metadata": {},
     "outputs": [],
     "prompt_number": 443
    },
    {
     "cell_type": "code",
     "collapsed": false,
     "input": "final=[]\nfor i in range(len(mergedlist)):\n    if mergedlist[i][1] in ['2008-1-1', '2008-1-2', '2008-1-3','2008-1-4','2008-1-5','2008-1-6','2008-1-7']:\n        for j in range(len(tab)):\n            if mergedlist[i][0] == tab[j][0]:\n                final.append([mergedlist[i][0], tab[j][1],tab[j][2],tab[j][3],tab[j][4],mergedlist[i][1],mergedlist[i][2],mergedlist[i][6]])",
     "language": "python",
     "metadata": {},
     "outputs": [],
     "prompt_number": 493
    },
    {
     "cell_type": "code",
     "collapsed": false,
     "input": "temp=[]\nfor i in range(len(final)):\n    a=final[i]\n    for i in range(len(final)):\n        if a[0] != final[i][0]:\n#             temp.append([a[0], a[5][7], a[6],a[7], final[i][0], final[i][5][7],final[i][6], final[i][7]])\n            temp.append([a[0],a[5][7], a[6],a[7],a[3],a[4], final[i][0],final[i][5][7],final[i][6], final[i][7],final[i][3],final[i][4] ])",
     "language": "python",
     "metadata": {},
     "outputs": [],
     "prompt_number": 594
    },
    {
     "cell_type": "code",
     "collapsed": false,
     "input": "import numpy as np\nhigh1=[]\nhigh2=[]\nfor i in range(len(temp)):\n    day1= int(temp[i][1])\n    day2= int(temp[i][7])\n    if (day2-day1)==1:\n        high1.append(int(temp[i][2]))\n        high2.append(int(temp[i][8]))\ncorr1 = np.correlate(high1,high2, \"full\")",
     "language": "python",
     "metadata": {},
     "outputs": [],
     "prompt_number": 571
    },
    {
     "cell_type": "code",
     "collapsed": false,
     "input": "x= int(final[1][5][7])\nprint x\nfor i in range(len(temp)):\n    temp[",
     "language": "python",
     "metadata": {},
     "outputs": [
      {
       "output_type": "stream",
       "stream": "stdout",
       "text": "1\n"
      }
     ],
     "prompt_number": 510
    },
    {
     "cell_type": "code",
     "collapsed": false,
     "input": "import numpy as np\nhigh1=[]\nhigh2=[]\nfor i in range(len(temp)):\n    day1= int(temp[i][1])\n    day2= int(temp[i][7])\n    if (day2-day1)==3:\n        high1.append(int(temp[i][2]))\n        high2.append(int(temp[i][8]))\ncor2 = np.correlate(high1,high2, \"full\")",
     "language": "python",
     "metadata": {},
     "outputs": [],
     "prompt_number": 582
    },
    {
     "cell_type": "code",
     "collapsed": false,
     "input": "import numpy as np\nhigh1=[]\nhigh2=[]\nfor i in range(len(temp)):\n    day1= int(temp[i][1])\n    day2= int(temp[i][7])\n    if (day2-day1)==6:\n        high1.append(int(temp[i][2]))\n        high2.append(int(temp[i][8]))\ncorr3 = np.correlate(high1,high2, \"full\")",
     "language": "python",
     "metadata": {},
     "outputs": [],
     "prompt_number": 585
    },
    {
     "cell_type": "code",
     "collapsed": false,
     "input": "import numpy as np\nhighchg=[]\nlatchg=[]\nlonchg=[]\nfor i in range(len(temp)):\n    day1= int(temp[i][1])\n    day2= int(temp[i][7])\n    if (day2-day1)==1:\n        highchg.append(int(int(temp[i][2])-int(temp[i][8])))\n        latchg.append(float(float(temp[i][4])-float(temp[i][10])))\n        lonchg.append(float(float(temp[i][5])-float(temp[i][11])))\ncorr1_lat=np.correlate(highchg, latchg)\ncorr1_lon=np.correlate(highchg, lonchg)\nplt.plot(highchg, latchg)\nplt.show()\nplt.plot(highchg, lonchg)\nplt.show()",
     "language": "python",
     "metadata": {},
     "outputs": [],
     "prompt_number": 596
    },
    {
     "cell_type": "code",
     "collapsed": false,
     "input": "import numpy as np\nhighchg=[]\nlatchg=[]\nlonchg=[]\nfor i in range(len(temp)):\n    day1= int(temp[i][1])\n    day2= int(temp[i][7])\n    if (day2-day1)==3:\n        highchg.append(int(int(temp[i][2])-int(temp[i][8])))\n        latchg.append(float(float(temp[i][4])-float(temp[i][10])))\n        lonchg.append(float(float(temp[i][5])-float(temp[i][11])))\ncorr1_lat=np.correlate(highchg, latchg)\ncorr1_lon=np.correlate(highchg, lonchg)\nplt.plot(highchg, latchg)\nplt.show()\nplt.plot(highchg, lonchg)\nplt.show()",
     "language": "python",
     "metadata": {},
     "outputs": [],
     "prompt_number": 597
    },
    {
     "cell_type": "code",
     "collapsed": false,
     "input": "import numpy as np\nhighchg=[]\nlatchg=[]\nlonchg=[]\nfor i in range(len(temp)):\n    day1= int(temp[i][1])\n    day2= int(temp[i][7])\n    if (day2-day1)==6:\n        highchg.append(int(int(temp[i][2])-int(temp[i][8])))\n        latchg.append(float(float(temp[i][4])-float(temp[i][10])))\n        lonchg.append(float(float(temp[i][5])-float(temp[i][11])))\ncorr1_lat=np.correlate(highchg, latchg)\ncorr1_lon=np.correlate(highchg, lonchg)\nplt.plot(highchg, latchg)\nplt.show()\nplt.plot(highchg, lonchg)\nplt.show()",
     "language": "python",
     "metadata": {},
     "outputs": [],
     "prompt_number": 598
    },
    {
     "cell_type": "code",
     "collapsed": false,
     "input": "import numpy as np\ncloudchg=[]\nlatchg=[]\nlonchg=[]\nfor i in range(len(temp)):\n    day1= int(temp[i][1])\n    day2= int(temp[i][7])\n    if (day2-day1)==1:\n        cloudchg.append(int(int(temp[i][3])-int(temp[i][9])))\n        latchg.append(float(float(temp[i][4])-float(temp[i][10])))\n        lonchg.append(float(float(temp[i][5])-float(temp[i][11])))\ncorr1_lat=np.correlate(cloudchg, latchg)\ncorr1_lon=np.correlate(cloudchg, lonchg)\nplt.plot(cloudchg, latchg)\nplt.show()\nplt.plot(cloudchg, lonchg)\nplt.show()",
     "language": "python",
     "metadata": {},
     "outputs": [],
     "prompt_number": 600
    },
    {
     "cell_type": "code",
     "collapsed": false,
     "input": "import numpy as np\ncloudchg=[]\nlatchg=[]\nlonchg=[]\nfor i in range(len(temp)):\n    day1= int(temp[i][1])\n    day2= int(temp[i][7])\n    if (day2-day1)==3:\n        cloudchg.append(int(int(temp[i][3])-int(temp[i][9])))\n        latchg.append(float(float(temp[i][4])-float(temp[i][10])))\n        lonchg.append(float(float(temp[i][5])-float(temp[i][11])))\ncorr1_lat=np.correlate(cloudchg, latchg)\ncorr1_lon=np.correlate(cloudchg, lonchg)\nplt.plot(cloudchg, latchg)\nplt.show()\nplt.plot(cloudchg, lonchg)\nplt.show()",
     "language": "python",
     "metadata": {},
     "outputs": [],
     "prompt_number": 601
    },
    {
     "cell_type": "code",
     "collapsed": false,
     "input": "import numpy as np\ncloudchg=[]\nlatchg=[]\nlonchg=[]\nfor i in range(len(temp)):\n    day1= int(temp[i][1])\n    day2= int(temp[i][7])\n    if (day2-day1)==7:\n        cloudchg.append(int(int(temp[i][3])-int(temp[i][9])))\n        latchg.append(float(float(temp[i][4])-float(temp[i][10])))\n        lonchg.append(float(float(temp[i][5])-float(temp[i][11])))\ncorr1_lat=np.correlate(cloudchg, latchg)\ncorr1_lon=np.correlate(cloudchg, lonchg)\nplt.plot(cloudchg, latchg)\nplt.show()\nplt.plot(cloudchg, lonchg)\nplt.show()",
     "language": "python",
     "metadata": {},
     "outputs": [],
     "prompt_number": 602
    }
   ],
   "metadata": {}
  }
 ]
}