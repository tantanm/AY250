{
 "metadata": {
  "name": ""
 },
 "nbformat": 3,
 "nbformat_minor": 0,
 "worksheets": [
  {
   "cells": [
    {
     "cell_type": "markdown",
     "metadata": {},
     "source": [
      "# XMLRPC Client"
     ]
    },
    {
     "cell_type": "code",
     "collapsed": false,
     "input": [
      "import xmlrpclib, sys\n",
      "host, port = \"\", 5031\n",
      "server = xmlrpclib.ServerProxy(\"http://%s:%d\" % (host, port))\n",
      "available_methods = server.system.listMethods()\n",
      "print \"Available methods from server:\"\n",
      "for method in available_methods:\n",
      "    print \"\\t\" + method\n"
     ],
     "language": "python",
     "metadata": {},
     "outputs": [
      {
       "output_type": "stream",
       "stream": "stdout",
       "text": [
        "Available methods from server:\n",
        "\thalfopacity\n",
        "\tswapgreenblue\n",
        "\tswapredgreen\n",
        "\tsystem.listMethods\n",
        "\tsystem.methodHelp\n",
        "\tsystem.methodSignature\n",
        "\tsystem.multicall\n"
       ]
      }
     ],
     "prompt_number": 22
    },
    {
     "cell_type": "code",
     "collapsed": false,
     "input": [
      "from PIL import Image,ImageStat\n",
      "import numpy as np\n",
      "import matplotlib.pyplot as plt\n",
      "\n",
      "img = Image.open(\"sample.png\")\n",
      "imgarr = np.asarray(img)\n",
      "band= str(img.getbands())\n",
      "\n",
      "if band == \"('R', 'G', 'B', 'A')\":\n",
      "    result1 = server.swapredgreen(imgarr.tolist())\n",
      "    \n",
      "    imgarr1 = np.array(result1, dtype = 'uint8')\n",
      "    newimg1 = Image.fromarray(imgarr1)\n",
      "    newimg1.save('swapredgreen_client.png')\n",
      "    help1 = server.system.methodHelp('swapredgreen')\n",
      "    \n",
      "    \n",
      "    result2 = server.swapgreenblue(imgarr.tolist())\n",
      "    imgarr2 = np.array(result2, dtype = 'uint8')\n",
      "    newimg2 = Image.fromarray(imgarr2)\n",
      "    newimg2.save('swapgreenblue_client.png')\n",
      "    help2= server.system.methodHelp('swapgreenblue')\n",
      "    \n",
      "    \n",
      "    result3 = server.halfopacity(imgarr.tolist())\n",
      "    imgarr3 = np.array(result3, dtype = 'uint8')\n",
      "    newimg3 = Image.fromarray(imgarr1)\n",
      "    newimg3.save('changeopacity_client.png')\n",
      "    help3= server.system.methodHelp('halfopacity')\n",
      "elif band == \"('P',)\":\n",
      "    print \"This is a grayscale image with one channel information.\"\n",
      "else:\n",
      "    print \"This transformation does not support this image type.\""
     ],
     "language": "python",
     "metadata": {},
     "outputs": [],
     "prompt_number": 31
    },
    {
     "cell_type": "code",
     "collapsed": false,
     "input": [
      "print type(img.getbands())\n",
      "imgarr = np.asarray(img)\n",
      "print imgarr.shape"
     ],
     "language": "python",
     "metadata": {},
     "outputs": [
      {
       "output_type": "stream",
       "stream": "stdout",
       "text": [
        "<type 'tuple'>\n",
        "(200, 150)\n"
       ]
      }
     ],
     "prompt_number": 13
    },
    {
     "cell_type": "code",
     "collapsed": false,
     "input": [
      "print imgarr"
     ],
     "language": "python",
     "metadata": {},
     "outputs": [
      {
       "output_type": "stream",
       "stream": "stdout",
       "text": [
        "[[  0   0   0 ...,   3   0   0]\n",
        " [  0   0   0 ...,  33  13   0]\n",
        " [  4   1   0 ...,  96  65   6]\n",
        " ..., \n",
        " [124 133 139 ...,  33  13   8]\n",
        " [128 138 145 ...,  35  28  28]\n",
        " [135 137 136 ...,  35  28  34]]\n"
       ]
      }
     ],
     "prompt_number": 12
    },
    {
     "cell_type": "code",
     "collapsed": false,
     "input": [
      "list((1,2))"
     ],
     "language": "python",
     "metadata": {},
     "outputs": [
      {
       "metadata": {},
       "output_type": "pyout",
       "prompt_number": 15,
       "text": [
        "[1, 2]"
       ]
      }
     ],
     "prompt_number": 15
    },
    {
     "cell_type": "code",
     "collapsed": false,
     "input": [
      "img = Image.open(\"testgray.png\")\n",
      "imgarr = np.asarray(img)\n",
      "band= str(img.getbands())\n",
      "print band\n",
      "type(band)"
     ],
     "language": "python",
     "metadata": {},
     "outputs": [
      {
       "output_type": "stream",
       "stream": "stdout",
       "text": [
        "('P',)\n"
       ]
      },
      {
       "metadata": {},
       "output_type": "pyout",
       "prompt_number": 29,
       "text": [
        "str"
       ]
      }
     ],
     "prompt_number": 29
    },
    {
     "cell_type": "code",
     "collapsed": false,
     "input": [],
     "language": "python",
     "metadata": {},
     "outputs": []
    }
   ],
   "metadata": {}
  }
 ]
}