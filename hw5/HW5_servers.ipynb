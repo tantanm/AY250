{
 "metadata": {
  "name": ""
 },
 "nbformat": 3,
 "nbformat_minor": 0,
 "worksheets": [
  {
   "cells": [
    {
     "cell_type": "markdown",
     "metadata": {},
     "source": [
      "# TCP Socket Server"
     ]
    },
    {
     "cell_type": "markdown",
     "metadata": {},
     "source": [
      "# XMLRPC Server"
     ]
    },
    {
     "cell_type": "code",
     "collapsed": false,
     "input": [
      "import SimpleXMLRPCServer\n",
      "from PIL import Image,ImageStat\n",
      "import numpy as np\n",
      "import matplotlib.pyplot as plt\n",
      "\n",
      "class Some_Class_We_Want_Remotely_Accessible:\n",
      "    def swapredgreen(self,imgarr):\n",
      "        \"\"\"This function returns an image with swapped red and green color channels.\"\"\"\n",
      "        imgarr = np.array(imgarr)\n",
      "        dimensions = imgarr.shape\n",
      "        newarr = np.zeros(shape = dimensions, dtype = 'uint8')\n",
      "        \n",
      "        for i in xrange(dimensions[0]):\n",
      "            for j in xrange(dimensions[1]):\n",
      "                newarr[i][j] = [imgarr[i][j][1],imgarr[i][j][0],imgarr[i][j][2],imgarr[i][j][3]]\n",
      "\n",
      "        newimg = Image.fromarray(newarr)\n",
      "        newimg.save('swapredgreen_server.png')\n",
      "        turn= newarr.tolist()\n",
      "        return turn\n",
      "        \n",
      "    def swapgreenblue(self,imgarr):\n",
      "        \"\"\"This function returns an image with swapped green and blue color channels.\"\"\"\n",
      "        imgarr = np.array(imgarr)\n",
      "        dimensions = imgarr.shape\n",
      "        newarr = np.zeros(shape = dimensions, dtype = 'uint8')\n",
      "        \n",
      "        for i in xrange(dimensions[0]):\n",
      "            for j in xrange(dimensions[1]):\n",
      "                newarr[i][j] = [imgarr[i][j][0],imgarr[i][j][2],imgarr[i][j][1],imgarr[i][j][3]]\n",
      "        \n",
      "        newimg = Image.fromarray(newarr)\n",
      "        newimg.save('swapgreenblue_server.png')\n",
      "        turn= newarr.tolist()\n",
      "        return turn\n",
      "        \n",
      "    def halfopacity(self,imgarr):\n",
      "        \"\"\"This function returns an image with half opacity.\"\"\"\n",
      "        imgarr = np.array(imgarr)\n",
      "        dimensions = imgarr.shape\n",
      "        newarr = np.zeros(shape = dimensions, dtype = 'uint8')\n",
      "        \n",
      "        for i in xrange(dimensions[0]):\n",
      "            for j in xrange(dimensions[1]):\n",
      "                newarr[i][j] = [imgarr[i][j][0],imgarr[i][j][1],imgarr[i][j][2],imgarr[i][j][3]//2]\n",
      "        \n",
      "        newimg = Image.fromarray(newarr)\n",
      "        newimg.save('changeopacity_server.png')\n",
      "        turn= newarr.tolist()\n",
      "        return turn\n",
      "    \n",
      "host, port = \"\", 5031\n",
      "server = SimpleXMLRPCServer.SimpleXMLRPCServer((host, port), allow_none=True)\n",
      "server.register_instance(Some_Class_We_Want_Remotely_Accessible())\n",
      "server.register_multicall_functions()\n",
      "server.register_introspection_functions()\n",
      "print \"XMLRPC Server is starting at:\", host, port"
     ],
     "language": "python",
     "metadata": {},
     "outputs": [
      {
       "output_type": "stream",
       "stream": "stdout",
       "text": [
        "XMLRPC Server is starting at:  5031\n"
       ]
      }
     ],
     "prompt_number": 1
    },
    {
     "cell_type": "code",
     "collapsed": false,
     "input": [
      "server.serve_forever()"
     ],
     "language": "python",
     "metadata": {},
     "outputs": [],
     "prompt_number": "*"
    },
    {
     "cell_type": "code",
     "collapsed": false,
     "input": [],
     "language": "python",
     "metadata": {},
     "outputs": []
    }
   ],
   "metadata": {}
  }
 ]
}